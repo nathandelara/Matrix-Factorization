{
 "cells": [
  {
   "cell_type": "markdown",
   "metadata": {},
   "source": [
    "### Experiments for the paper:\n",
    "\n",
    "# The Sparse + Low Rank trick for Matrix Factorization-Based Graph Algorithms"
   ]
  },
  {
   "cell_type": "code",
   "execution_count": 2,
   "metadata": {},
   "outputs": [],
   "source": [
    "import numpy as np\n",
    "import pandas as pd\n",
    "import pickle\n",
    "from scipy import sparse\n",
    "from time import time\n",
    "\n",
    "from datasets import Dataset, BDataset\n",
    "from randomized_matrix_factorization import SparseLR, randomized_eig, randomized_svd"
   ]
  },
  {
   "cell_type": "code",
   "execution_count": 3,
   "metadata": {},
   "outputs": [],
   "source": [
    "import matplotlib.pyplot as plt\n",
    "%matplotlib inline"
   ]
  },
  {
   "cell_type": "markdown",
   "metadata": {},
   "source": [
    "### Datasets"
   ]
  },
  {
   "cell_type": "code",
   "execution_count": 4,
   "metadata": {
    "scrolled": true
   },
   "outputs": [
    {
     "data": {
      "text/html": [
       "<div>\n",
       "<style scoped>\n",
       "    .dataframe tbody tr th:only-of-type {\n",
       "        vertical-align: middle;\n",
       "    }\n",
       "\n",
       "    .dataframe tbody tr th {\n",
       "        vertical-align: top;\n",
       "    }\n",
       "\n",
       "    .dataframe thead th {\n",
       "        text-align: right;\n",
       "    }\n",
       "</style>\n",
       "<table border=\"1\" class=\"dataframe\">\n",
       "  <thead>\n",
       "    <tr style=\"text-align: right;\">\n",
       "      <th></th>\n",
       "      <th>Code</th>\n",
       "      <th>Name</th>\n",
       "      <th>Filename</th>\n",
       "      <th>n_nodes</th>\n",
       "      <th>n_edges</th>\n",
       "    </tr>\n",
       "  </thead>\n",
       "  <tbody>\n",
       "    <tr>\n",
       "      <th>0</th>\n",
       "      <td>MK</td>\n",
       "      <td>Kangaroo</td>\n",
       "      <td>moreno_kangaroo</td>\n",
       "      <td>17.0</td>\n",
       "      <td>182.0</td>\n",
       "    </tr>\n",
       "    <tr>\n",
       "      <th>1</th>\n",
       "      <td>JZ</td>\n",
       "      <td>Jazz musicians</td>\n",
       "      <td>arenas-jazz</td>\n",
       "      <td>198.0</td>\n",
       "      <td>5484.0</td>\n",
       "    </tr>\n",
       "    <tr>\n",
       "      <th>2</th>\n",
       "      <td>Shf</td>\n",
       "      <td>Hamsterster friendships</td>\n",
       "      <td>petster-friendships-hamster</td>\n",
       "      <td>1788.0</td>\n",
       "      <td>24952.0</td>\n",
       "    </tr>\n",
       "    <tr>\n",
       "      <th>3</th>\n",
       "      <td>RC</td>\n",
       "      <td>Reactome</td>\n",
       "      <td>reactome</td>\n",
       "      <td>5973.0</td>\n",
       "      <td>292770.0</td>\n",
       "    </tr>\n",
       "    <tr>\n",
       "      <th>4</th>\n",
       "      <td>GW</td>\n",
       "      <td>Gowalla</td>\n",
       "      <td>loc-gowalla_edges</td>\n",
       "      <td>196591.0</td>\n",
       "      <td>1900654.0</td>\n",
       "    </tr>\n",
       "    <tr>\n",
       "      <th>5</th>\n",
       "      <td>SK</td>\n",
       "      <td>Skitter</td>\n",
       "      <td>as-skitter</td>\n",
       "      <td>1694616.0</td>\n",
       "      <td>22188418.0</td>\n",
       "    </tr>\n",
       "    <tr>\n",
       "      <th>6</th>\n",
       "      <td>OR</td>\n",
       "      <td>Orkut</td>\n",
       "      <td>orkut-links</td>\n",
       "      <td>3072441.0</td>\n",
       "      <td>234369798.0</td>\n",
       "    </tr>\n",
       "  </tbody>\n",
       "</table>\n",
       "</div>"
      ],
      "text/plain": [
       "  Code                     Name                     Filename    n_nodes  \\\n",
       "0   MK                 Kangaroo              moreno_kangaroo       17.0   \n",
       "1   JZ           Jazz musicians                  arenas-jazz      198.0   \n",
       "2  Shf  Hamsterster friendships  petster-friendships-hamster     1788.0   \n",
       "3   RC                 Reactome                     reactome     5973.0   \n",
       "4   GW                  Gowalla            loc-gowalla_edges   196591.0   \n",
       "5   SK                  Skitter                   as-skitter  1694616.0   \n",
       "6   OR                    Orkut                  orkut-links  3072441.0   \n",
       "\n",
       "       n_edges  \n",
       "0        182.0  \n",
       "1       5484.0  \n",
       "2      24952.0  \n",
       "3     292770.0  \n",
       "4    1900654.0  \n",
       "5   22188418.0  \n",
       "6  234369798.0  "
      ]
     },
     "execution_count": 4,
     "metadata": {},
     "output_type": "execute_result"
    }
   ],
   "source": [
    "undirected_graphs = pd.read_csv('undirected.csv')\n",
    "undirected_graphs"
   ]
  },
  {
   "cell_type": "code",
   "execution_count": 5,
   "metadata": {
    "scrolled": true
   },
   "outputs": [
    {
     "data": {
      "text/html": [
       "<div>\n",
       "<style scoped>\n",
       "    .dataframe tbody tr th:only-of-type {\n",
       "        vertical-align: middle;\n",
       "    }\n",
       "\n",
       "    .dataframe tbody tr th {\n",
       "        vertical-align: top;\n",
       "    }\n",
       "\n",
       "    .dataframe thead th {\n",
       "        text-align: right;\n",
       "    }\n",
       "</style>\n",
       "<table border=\"1\" class=\"dataframe\">\n",
       "  <thead>\n",
       "    <tr style=\"text-align: right;\">\n",
       "      <th></th>\n",
       "      <th>Code</th>\n",
       "      <th>Name</th>\n",
       "      <th>Filename</th>\n",
       "      <th>n1</th>\n",
       "      <th>n2</th>\n",
       "      <th>n_edges</th>\n",
       "    </tr>\n",
       "  </thead>\n",
       "  <tbody>\n",
       "    <tr>\n",
       "      <th>0</th>\n",
       "      <td>SW</td>\n",
       "      <td>Southern women 1</td>\n",
       "      <td>opsahl-southernwomen</td>\n",
       "      <td>18.0</td>\n",
       "      <td>14.0</td>\n",
       "      <td>89.0</td>\n",
       "    </tr>\n",
       "    <tr>\n",
       "      <th>1</th>\n",
       "      <td>UL</td>\n",
       "      <td>Unicode languages</td>\n",
       "      <td>unicodelang</td>\n",
       "      <td>248.0</td>\n",
       "      <td>610.0</td>\n",
       "      <td>1249.0</td>\n",
       "    </tr>\n",
       "    <tr>\n",
       "      <th>2</th>\n",
       "      <td>SX</td>\n",
       "      <td>Sexual escorts</td>\n",
       "      <td>escorts</td>\n",
       "      <td>9652.0</td>\n",
       "      <td>6158.0</td>\n",
       "      <td>38540.0</td>\n",
       "    </tr>\n",
       "    <tr>\n",
       "      <th>3</th>\n",
       "      <td>Mut</td>\n",
       "      <td>MovieLens user–tag</td>\n",
       "      <td>movielens-10m_ut</td>\n",
       "      <td>3654.0</td>\n",
       "      <td>16015.0</td>\n",
       "      <td>43228.0</td>\n",
       "    </tr>\n",
       "    <tr>\n",
       "      <th>4</th>\n",
       "      <td>R2</td>\n",
       "      <td>Reuters-21578</td>\n",
       "      <td>gottron-reuters</td>\n",
       "      <td>19757.0</td>\n",
       "      <td>38677.0</td>\n",
       "      <td>978446.0</td>\n",
       "    </tr>\n",
       "    <tr>\n",
       "      <th>5</th>\n",
       "      <td>M3</td>\n",
       "      <td>MovieLens 10M</td>\n",
       "      <td>movielens-10m_rating</td>\n",
       "      <td>69878.0</td>\n",
       "      <td>10677.0</td>\n",
       "      <td>10000054.0</td>\n",
       "    </tr>\n",
       "    <tr>\n",
       "      <th>6</th>\n",
       "      <td>RE</td>\n",
       "      <td>Reuters</td>\n",
       "      <td>reuters</td>\n",
       "      <td>781265.0</td>\n",
       "      <td>283911.0</td>\n",
       "      <td>60569726.0</td>\n",
       "    </tr>\n",
       "  </tbody>\n",
       "</table>\n",
       "</div>"
      ],
      "text/plain": [
       "  Code                Name              Filename        n1        n2  \\\n",
       "0   SW    Southern women 1  opsahl-southernwomen      18.0      14.0   \n",
       "1   UL   Unicode languages           unicodelang     248.0     610.0   \n",
       "2   SX      Sexual escorts               escorts    9652.0    6158.0   \n",
       "3  Mut  MovieLens user–tag      movielens-10m_ut    3654.0   16015.0   \n",
       "4   R2       Reuters-21578       gottron-reuters   19757.0   38677.0   \n",
       "5   M3       MovieLens 10M  movielens-10m_rating   69878.0   10677.0   \n",
       "6   RE             Reuters               reuters  781265.0  283911.0   \n",
       "\n",
       "      n_edges  \n",
       "0        89.0  \n",
       "1      1249.0  \n",
       "2     38540.0  \n",
       "3     43228.0  \n",
       "4    978446.0  \n",
       "5  10000054.0  \n",
       "6  60569726.0  "
      ]
     },
     "execution_count": 5,
     "metadata": {},
     "output_type": "execute_result"
    }
   ],
   "source": [
    "bipartite_graphs = pd.read_csv('bipartite.csv')\n",
    "bipartite_graphs"
   ]
  },
  {
   "cell_type": "markdown",
   "metadata": {},
   "source": [
    "### Modularity Factorization"
   ]
  },
  {
   "cell_type": "code",
   "execution_count": 5,
   "metadata": {},
   "outputs": [],
   "source": [
    "def modularity_matrix(adj_matrix, dense=False):\n",
    "    total_weight = adj_matrix.data.sum()\n",
    "    pou = adj_matrix.dot(np.ones(adj_matrix.shape[1])) / total_weight\n",
    "    pin = adj_matrix.T.dot(np.ones(adj_matrix.shape[0])) / total_weight\n",
    "    \n",
    "    if dense:\n",
    "        return adj_matrix.toarray() / total_weight - pou[:, np.newaxis].dot(pin[:, np.newaxis].T)\n",
    "    else:\n",
    "        return SparseLR(adj_matrix / total_weight, [(-pou, pin)])"
   ]
  },
  {
   "cell_type": "code",
   "execution_count": 6,
   "metadata": {},
   "outputs": [],
   "source": [
    "def benchmark_halko(graph, n_components):\n",
    "    if type(graph) == Dataset:\n",
    "        decomposition = randomized_eig\n",
    "    else:\n",
    "        decomposition = randomized_svd\n",
    "        \n",
    "    modularity = modularity_matrix(graph.adj_matrix, dense=False)\n",
    "    t0 = time()\n",
    "    decomposition(modularity, n_components)\n",
    "    t1 = time()\n",
    "    \n",
    "    return t1 - t0"
   ]
  },
  {
   "cell_type": "code",
   "execution_count": 7,
   "metadata": {},
   "outputs": [],
   "source": [
    "def benchmark_lanczos(graph, n_components):\n",
    "    if type(graph) == Dataset:\n",
    "        decomposition = sparse.linalg.eigsh\n",
    "    else:\n",
    "        decomposition = sparse.linalg.svds\n",
    "        \n",
    "    modularity = modularity_matrix(graph.adj_matrix, dense=True)\n",
    "    t0 = time()\n",
    "    decomposition(modularity, n_components)\n",
    "    t1 = time()\n",
    "    \n",
    "    return t1 - t0"
   ]
  },
  {
   "cell_type": "markdown",
   "metadata": {},
   "source": [
    "### Runs\n",
    "\n",
    "#### Experiment 1: Fixed number of components, different graphs"
   ]
  },
  {
   "cell_type": "code",
   "execution_count": 8,
   "metadata": {},
   "outputs": [],
   "source": [
    "n_components = 16"
   ]
  },
  {
   "cell_type": "code",
   "execution_count": 9,
   "metadata": {},
   "outputs": [],
   "source": [
    "exp1 = {'undirected': {'sparse+low_rank': {}, 'dense': {}},\n",
    "           'bipartite': {'sparse+low_rank': {}, 'dense': {}}\n",
    "         }"
   ]
  },
  {
   "cell_type": "code",
   "execution_count": 10,
   "metadata": {},
   "outputs": [],
   "source": [
    "for i, filename in enumerate(undirected_graphs['Filename']):\n",
    "    graph = Dataset(filename)\n",
    "    \n",
    "    exp1['undirected']['sparse+low_rank'][i] = benchmark_halko(graph, n_components)\n",
    "    \n",
    "    try:\n",
    "        exp1['undirected']['dense'][i] = benchmark_lanczos(graph, n_components)\n",
    "    except MemoryError:\n",
    "        pass"
   ]
  },
  {
   "cell_type": "code",
   "execution_count": 11,
   "metadata": {},
   "outputs": [],
   "source": [
    "for i, filename in enumerate(bipartite_graphs['Filename']):\n",
    "    graph = BDataset(filename)\n",
    "    \n",
    "    exp1['bipartite']['sparse+low_rank'][i] = benchmark_halko(graph, n_components)\n",
    "    \n",
    "    try:\n",
    "        k = min(n_components, min(graph.adj_matrix.shape) - 1)\n",
    "        exp1['bipartite']['dense'][i] = benchmark_lanczos(graph, k)\n",
    "    except MemoryError:\n",
    "        pass"
   ]
  },
  {
   "cell_type": "code",
   "execution_count": 20,
   "metadata": {},
   "outputs": [],
   "source": [
    "pickle.dump(exp1, open('exp1.p', 'bw'))"
   ]
  },
  {
   "cell_type": "markdown",
   "metadata": {},
   "source": [
    "#### Experiment 2: Fixed graphs, varying number of components"
   ]
  },
  {
   "cell_type": "code",
   "execution_count": 43,
   "metadata": {},
   "outputs": [],
   "source": [
    "all_n_components = [8, 16, 32, 64, 128, 264]"
   ]
  },
  {
   "cell_type": "code",
   "execution_count": 44,
   "metadata": {},
   "outputs": [],
   "source": [
    "exp2 = {'undirected': {'sparse+low_rank': {}, 'dense': {}},\n",
    "        'bipartite': {'sparse+low_rank': {}, 'dense': {}}\n",
    "         }"
   ]
  },
  {
   "cell_type": "code",
   "execution_count": 45,
   "metadata": {},
   "outputs": [],
   "source": [
    "reactome = Dataset('reactome')\n",
    "movielens = BDataset('movielens-10m_ut')"
   ]
  },
  {
   "cell_type": "code",
   "execution_count": 46,
   "metadata": {},
   "outputs": [],
   "source": [
    "for k in all_n_components:\n",
    "    exp2['undirected']['sparse+low_rank'][k] = benchmark_halko(reactome, k)\n",
    "    exp2['undirected']['dense'][k] = benchmark_lanczos(reactome, k)\n",
    "    \n",
    "    exp2['bipartite']['sparse+low_rank'][k] = benchmark_halko(movielens, k)\n",
    "    exp2['bipartite']['dense'][k] = benchmark_lanczos(movielens, k)"
   ]
  },
  {
   "cell_type": "code",
   "execution_count": 48,
   "metadata": {},
   "outputs": [],
   "source": [
    "pickle.dump(exp2, open('exp2.p', 'wb'))"
   ]
  },
  {
   "cell_type": "markdown",
   "metadata": {},
   "source": [
    "## Display of the results\n",
    "\n",
    "### Experiment 1"
   ]
  },
  {
   "cell_type": "code",
   "execution_count": 3,
   "metadata": {},
   "outputs": [],
   "source": [
    "exp1 = pickle.load(open('exp1.p', 'rb'))"
   ]
  },
  {
   "cell_type": "markdown",
   "metadata": {},
   "source": [
    "#### Undirected Graphs"
   ]
  },
  {
   "cell_type": "code",
   "execution_count": 8,
   "metadata": {},
   "outputs": [],
   "source": [
    "x = undirected_graphs['n_edges'].values\n",
    "y_slr = [exp1['undirected']['sparse+low_rank'][key] for key in exp1['undirected']['sparse+low_rank']]\n",
    "y_dns = [exp1['undirected']['dense'][key] for key in exp1['undirected']['dense']]"
   ]
  },
  {
   "cell_type": "code",
   "execution_count": 13,
   "metadata": {
    "scrolled": false
   },
   "outputs": [
    {
     "data": {
      "image/png": "[encoded data removed]",
      "text/plain": [
       "<Figure size 432x288 with 1 Axes>"
      ]
     },
     "metadata": {
      "needs_background": "light"
     },
     "output_type": "display_data"
    }
   ],
   "source": [
    "plt.figure()\n",
    "plt.scatter(x, y_slr, c='b', marker='+', label='sparse + low rank')\n",
    "plt.scatter(x[:len(y_dns)], y_dns, c='r', marker='o', label='dense')\n",
    "\n",
    "for i in range(len(y_slr)):\n",
    "    plt.annotate(undirected_graphs.at[i, 'Code'], (x[i], y_slr[i]))\n",
    "for i in range(len(y_dns)):\n",
    "    plt.annotate(undirected_graphs.at[i, 'Code'], (x[i], y_dns[i]))\n",
    "\n",
    "plt.loglog()\n",
    "plt.xlabel('m', fontsize='large')\n",
    "plt.ylabel('time (s)', fontsize='large')\n",
    "plt.legend(fontsize='large')\n",
    "\n",
    "plt.savefig('scatter_undirected.pdf', transparent=True, format='pdf')\n",
    "plt.show()"
   ]
  },
  {
   "cell_type": "markdown",
   "metadata": {},
   "source": [
    "#### Bipartite Graphs"
   ]
  },
  {
   "cell_type": "code",
   "execution_count": 16,
   "metadata": {},
   "outputs": [],
   "source": [
    "x = bipartite_graphs['n_edges'].values\n",
    "y_slr = [exp1['bipartite']['sparse+low_rank'][key] for key in exp1['bipartite']['sparse+low_rank']]\n",
    "y_dns = [exp1['bipartite']['dense'][key] for key in exp1['bipartite']['dense']]"
   ]
  },
  {
   "cell_type": "code",
   "execution_count": 18,
   "metadata": {
    "scrolled": false
   },
   "outputs": [
    {
     "data": {
      "image/png": "[encoded data removed]",
      "text/plain": [
       "<Figure size 432x288 with 1 Axes>"
      ]
     },
     "metadata": {
      "needs_background": "light"
     },
     "output_type": "display_data"
    }
   ],
   "source": [
    "plt.figure()\n",
    "plt.scatter(x, 1 + np.array(y_slr), c='b', marker='+', label='sparse + low rank')\n",
    "plt.scatter(x[:len(y_dns)], 1 + np.array(y_dns), c='r', marker='o', label='dense')\n",
    "\n",
    "for i in range(len(y_slr)):\n",
    "    plt.annotate(bipartite_graphs.at[i, 'Code'], (x[i], 1 + y_slr[i]))\n",
    "for i in range(len(y_dns)):\n",
    "    plt.annotate(bipartite_graphs.at[i, 'Code'], (x[i], 1 + y_dns[i]))\n",
    "\n",
    "plt.loglog()\n",
    "plt.xlabel('m', fontsize='large')\n",
    "plt.ylabel('time (s)', fontsize='large')\n",
    "plt.legend(fontsize='large')\n",
    "\n",
    "plt.savefig('scatter_bipartite.pdf', transparent=True, format='pdf')\n",
    "plt.show()"
   ]
  },
  {
   "cell_type": "markdown",
   "metadata": {},
   "source": [
    "### Experiment 2\n",
    "#### Reactome"
   ]
  },
  {
   "cell_type": "code",
   "execution_count": 57,
   "metadata": {},
   "outputs": [],
   "source": [
    "x = all_n_components\n",
    "y_slr = [exp2['undirected']['sparse+low_rank'][key] for key in exp2['undirected']['sparse+low_rank']]\n",
    "y_dns = [exp2['undirected']['dense'][key] for key in exp2['undirected']['dense']]"
   ]
  },
  {
   "cell_type": "code",
   "execution_count": 58,
   "metadata": {},
   "outputs": [
    {
     "data": {
      "image/png": "[encoded data removed]",
      "text/plain": [
       "<Figure size 432x288 with 1 Axes>"
      ]
     },
     "metadata": {
      "needs_background": "light"
     },
     "output_type": "display_data"
    }
   ],
   "source": [
    "plt.figure()\n",
    "plt.scatter(x, y_slr, c='b', marker='+', label='sparse + low rank')\n",
    "plt.scatter(x[:len(y_dns)], y_dns, c='r', marker='o', label='dense')\n",
    "\n",
    "plt.loglog()\n",
    "plt.xlabel('k', fontsize='large')\n",
    "plt.ylabel('time (s)', fontsize='large')\n",
    "plt.legend(fontsize='large')\n",
    "\n",
    "plt.savefig('scatter_reactome.pdf', transparent=True, format='pdf')\n",
    "plt.show()"
   ]
  },
  {
   "cell_type": "markdown",
   "metadata": {},
   "source": [
    "#### Movielens"
   ]
  },
  {
   "cell_type": "code",
   "execution_count": 59,
   "metadata": {},
   "outputs": [],
   "source": [
    "x = all_n_components\n",
    "y_slr = [exp2['bipartite']['sparse+low_rank'][key] for key in exp2['bipartite']['sparse+low_rank']]\n",
    "y_dns = [exp2['bipartite']['dense'][key] for key in exp2['bipartite']['dense']]"
   ]
  },
  {
   "cell_type": "code",
   "execution_count": 60,
   "metadata": {},
   "outputs": [
    {
     "data": {
      "image/png": "[encoded data removed]",
      "text/plain": [
       "<Figure size 432x288 with 1 Axes>"
      ]
     },
     "metadata": {
      "needs_background": "light"
     },
     "output_type": "display_data"
    }
   ],
   "source": [
    "plt.figure()\n",
    "plt.scatter(x, y_slr, c='b', marker='+', label='sparse + low rank')\n",
    "plt.scatter(x[:len(y_dns)], y_dns, c='r', marker='o', label='dense')\n",
    "\n",
    "plt.loglog()\n",
    "plt.xlabel('k', fontsize='large')\n",
    "plt.ylabel('time (s)', fontsize='large')\n",
    "plt.legend(fontsize='large')\n",
    "\n",
    "plt.savefig('scatter_movielens.pdf', transparent=True, format='pdf')\n",
    "plt.show()"
   ]
  }
 ],
 "metadata": {
  "kernelspec": {
   "display_name": "Python 3",
   "language": "python",
   "name": "python3"
  },
  "language_info": {
   "codemirror_mode": {
    "name": "ipython",
    "version": 3
   },
   "file_extension": ".py",
   "mimetype": "text/x-python",
   "name": "python",
   "nbconvert_exporter": "python",
   "pygments_lexer": "ipython3",
   "version": "3.7.3rc1"
  }
 },
 "nbformat": 4,
 "nbformat_minor": 2
}
